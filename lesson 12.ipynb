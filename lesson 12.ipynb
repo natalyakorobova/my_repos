{
 "cells": [
  {
   "cell_type": "code",
   "execution_count": 1,
   "metadata": {},
   "outputs": [],
   "source": [
    "class Twitter:\n",
    "    def __init__(self):\n",
    "        self.tweets_by_user = {} # collections.defaultdict(list)\n",
    "        self.followees_by_user = {} # collections.defaultdict(set)\n",
    "\n",
    "    def postTweet(self, user, tweet):\n",
    "        #self.tweets_by_user[user].append(tweet)\n",
    "        if user in self.tweets_by_user:\n",
    "            his_tweets = self.tweets_by_user[user]\n",
    "            his_tweets.append(tweet)\n",
    "        else:\n",
    "            self.tweets_by_user[user] = [tweet]\n",
    "\n",
    "    def getNewsFeed(self, user):\n",
    "        # TODO Здесь нужно добавить в ленту твиты\n",
    "        # тех на кого подписан user\n",
    "        return self.tweets_by_user.get(user, [])[::-1]\n",
    "\n",
    "    def follow(self, follower, user2):\n",
    "        if user2 in self.followees_by_user:\n",
    "            self.followees_by_user[user2].add(follower)\n",
    "        else:\n",
    "            self.followees_by_user[user2] = {follower}\n",
    "\n",
    "    def unfollow(self, follower, user2):\n",
    "        self.followees_by_user[user2].discard(follower)"
   ]
  },
  {
   "cell_type": "code",
   "execution_count": 2,
   "metadata": {},
   "outputs": [],
   "source": [
    "import sys"
   ]
  },
  {
   "cell_type": "code",
   "execution_count": 3,
   "metadata": {},
   "outputs": [
    {
     "data": {
      "text/plain": [
       "['/home/vladimir',\n",
       " '/usr/lib/python38.zip',\n",
       " '/usr/lib/python3.8',\n",
       " '/usr/lib/python3.8/lib-dynload',\n",
       " '',\n",
       " '/home/vladimir/.local/lib/python3.8/site-packages',\n",
       " '/usr/local/lib/python3.8/dist-packages',\n",
       " '/usr/lib/python3/dist-packages',\n",
       " '/home/vladimir/.local/lib/python3.8/site-packages/IPython/extensions',\n",
       " '/home/vladimir/.ipython']"
      ]
     },
     "execution_count": 3,
     "metadata": {},
     "output_type": "execute_result"
    }
   ],
   "source": [
    "sys.path"
   ]
  },
  {
   "cell_type": "code",
   "execution_count": 6,
   "metadata": {},
   "outputs": [],
   "source": [
    "del a"
   ]
  },
  {
   "cell_type": "code",
   "execution_count": 9,
   "metadata": {},
   "outputs": [
    {
     "name": "stdout",
     "output_type": "stream",
     "text": [
      "10\n",
      "10\n"
     ]
    }
   ],
   "source": [
    "def f():\n",
    "    print(a)\n",
    "\n",
    "\n",
    "#f(1)\n",
    "#print(a)\n",
    "a = 10\n",
    "print(a)\n",
    "\n",
    "f()"
   ]
  },
  {
   "cell_type": "code",
   "execution_count": 10,
   "metadata": {},
   "outputs": [
    {
     "name": "stdout",
     "output_type": "stream",
     "text": [
      "10\n",
      "20\n",
      "10\n"
     ]
    }
   ],
   "source": [
    "def f():\n",
    "    a = 20\n",
    "    print(a)\n",
    "\n",
    "a = 10\n",
    "print(a)\n",
    "\n",
    "f()\n",
    "print(a)"
   ]
  },
  {
   "cell_type": "code",
   "execution_count": 11,
   "metadata": {},
   "outputs": [
    {
     "name": "stdout",
     "output_type": "stream",
     "text": [
      "10\n",
      "20\n",
      "20\n"
     ]
    }
   ],
   "source": [
    "def f():\n",
    "    global a\n",
    "    a = 20\n",
    "    print(a)\n",
    "\n",
    "a = 10\n",
    "print(a)\n",
    "\n",
    "f()\n",
    "print(a)"
   ]
  },
  {
   "cell_type": "code",
   "execution_count": 13,
   "metadata": {},
   "outputs": [
    {
     "name": "stdout",
     "output_type": "stream",
     "text": [
      "20\n",
      "30\n",
      "20\n"
     ]
    }
   ],
   "source": [
    "def f():\n",
    "    a = 30\n",
    "\n",
    "    def g():\n",
    "        global a\n",
    "        a = 20\n",
    "        print(a)\n",
    "\n",
    "    g()\n",
    "    print(a)\n",
    "\n",
    "a = 10\n",
    "f()\n",
    "print(a)"
   ]
  },
  {
   "cell_type": "code",
   "execution_count": 16,
   "metadata": {},
   "outputs": [
    {
     "name": "stdout",
     "output_type": "stream",
     "text": [
      "20\n",
      "20\n",
      "10\n"
     ]
    }
   ],
   "source": [
    "def f():\n",
    "    a = 30\n",
    "\n",
    "    def g():\n",
    "        nonlocal a\n",
    "        a = 20\n",
    "        print(a)\n",
    "\n",
    "    g()\n",
    "    print(a)\n",
    "\n",
    "a = 10\n",
    "f()\n",
    "print(a)"
   ]
  },
  {
   "cell_type": "code",
   "execution_count": null,
   "metadata": {},
   "outputs": [],
   "source": [
    "#!/usr/bin/python3\n",
    "\"\"\"Этот модуль делает следующие вещи:\n",
    "-- 1\n",
    "-- 2\n",
    "\"\"\""
   ]
  },
  {
   "cell_type": "code",
   "execution_count": 17,
   "metadata": {},
   "outputs": [
    {
     "name": "stdout",
     "output_type": "stream",
     "text": [
      "Requirement already satisfied: pytelegrambotapi in ./.local/lib/python3.8/site-packages (3.7.4)\n",
      "Requirement already satisfied: requests in /usr/lib/python3/dist-packages (from pytelegrambotapi) (2.22.0)\n"
     ]
    }
   ],
   "source": [
    "!pip3 install pytelegrambotapi"
   ]
  },
  {
   "cell_type": "code",
   "execution_count": 18,
   "metadata": {},
   "outputs": [],
   "source": [
    "import telebot"
   ]
  },
  {
   "cell_type": "code",
   "execution_count": null,
   "metadata": {},
   "outputs": [],
   "source": [
    "bot = telebot.TeleBot('сюда_указать_токен')\n",
    "\n",
    "@bot.message_handler(commands=['start', 'help'])\n",
    "def send_welcome(message):\n",
    "    bot.reply_to(message, \"Howdy, how are you doing?\")\n",
    "    # message.from_user.first_name\n",
    "    bot.send_message(message.from_user.id, \"Howdy, how are you doing?\")\n",
    "\n",
    "@bot.message_handler(func=lambda m: True)\n",
    "def send_all(message):\n",
    "    if message.text == 'Пришли хомячка':\n",
    "        ...\n",
    "ИЛИ\n",
    "@bot.message_handler(func=lambda m: m.text == 'Пришли хомячка')\n",
    "def send_all(message):\n",
    "    ...\n",
    "\n",
    "bot.polling()\n",
    "\n",
    "# 20:25"
   ]
  },
  {
   "cell_type": "code",
   "execution_count": null,
   "metadata": {},
   "outputs": [],
   "source": [
    "# https://github.com/eternnoir/pyTelegramBotAPI/tree/master/examples/detailed_example"
   ]
  },
  {
   "cell_type": "code",
   "execution_count": null,
   "metadata": {},
   "outputs": [],
   "source": [
    "# Отправить картинку:\n",
    "# 1) отправить URL текстом\n",
    "# 2)\n",
    "#    with open('file.jpg', 'rb') as f:\n",
    "#        bot.send_photo(message.from_user.id, f)\n",
    "\n",
    "# 3) bot.send_photo(message.from_user.id, image_url)"
   ]
  },
  {
   "cell_type": "code",
   "execution_count": 19,
   "metadata": {},
   "outputs": [],
   "source": [
    "# https://www.pythonanywhere.com/pricing/"
   ]
  },
  {
   "cell_type": "code",
   "execution_count": null,
   "metadata": {},
   "outputs": [],
   "source": []
  }
 ],
 "metadata": {
  "kernelspec": {
   "display_name": "Python 3",
   "language": "python",
   "name": "python3"
  },
  "language_info": {
   "codemirror_mode": {
    "name": "ipython",
    "version": 3
   },
   "file_extension": ".py",
   "mimetype": "text/x-python",
   "name": "python",
   "nbconvert_exporter": "python",
   "pygments_lexer": "ipython3",
   "version": "3.8.5"
  }
 },
 "nbformat": 4,
 "nbformat_minor": 4
}
